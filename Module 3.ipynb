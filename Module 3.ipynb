{
 "cells": [
  {
   "cell_type": "markdown",
   "metadata": {
    "colab_type": "text",
    "id": "yvRFuFBLrsac"
   },
   "source": [
    "# Machine Learning Basics\n",
    "In this module, you'll be implementing a simple Linear Regressor and Logistic Regressor. You will be using the Salary Data for the tasks in this module. <br> <br>\n",
    "**Pipeline:**\n",
    "* Acquiring the data - done\n",
    "* Handling files and formats - done\n",
    "* Data Analysis - done\n",
    "* Prediction\n",
    "* Analysing results"
   ]
  },
  {
   "cell_type": "markdown",
   "metadata": {
    "colab_type": "text",
    "id": "AwvgLLICtyt_"
   },
   "source": [
    "## Imports\n",
    "You may require NumPy, pandas, matplotlib and scikit-learn for this module. Do not, however, use the inbuilt Linear and Logistic Regressors from scikit-learn."
   ]
  },
  {
   "cell_type": "code",
   "execution_count": 5,
   "metadata": {},
   "outputs": [],
   "source": [
    "import numpy as np\n",
    "import pandas as pd\n",
    "import math\n",
    "import matplotlib.pyplot as plt\n",
    "from sklearn.model_selection import train_test_split\n"
   ]
  },
  {
   "cell_type": "markdown",
   "metadata": {
    "colab_type": "text",
    "id": "yE5Sz6nKvjTS"
   },
   "source": [
    "## Dataset\n",
    "You can load the dataset and perform any dataset related operations here. Split the data into training and testing sets. Do this separately for the regression and classification problems."
   ]
  },
  {
   "cell_type": "code",
   "execution_count": 133,
   "metadata": {},
   "outputs": [],
   "source": [
    "df = pd.read_csv(\"Data/SalaryData.csv\")\n",
    "\n",
    "y = df.Salary\n",
    "x = df.YearsExperience\n",
    "x_train,x_test,y_train,y_test=train_test_split(x,y,test_size=0.2)\n"
   ]
  },
  {
   "cell_type": "markdown",
   "metadata": {
    "colab_type": "text",
    "id": "VienPTZA1ZEr"
   },
   "source": [
    "## Task 1a - Linear Regressor\n",
    "Code your own Linear Regressor here, and fit it to your training data. You will be predicting salary based on years of experience."
   ]
  },
  {
   "cell_type": "code",
   "execution_count": 134,
   "metadata": {},
   "outputs": [],
   "source": [
    "def compute_yi(param,x_t):\n",
    "    x = [ list([1,x]) for x in x_t]\n",
    "    x = np.array(x)\n",
    "    \n",
    "    return(np.dot(x,param))"
   ]
  },
  {
   "cell_type": "code",
   "execution_count": 135,
   "metadata": {},
   "outputs": [],
   "source": [
    "def compute_diff(param):\n",
    "    h_x = compute_yi(param, x_train)\n",
    "   \n",
    "    c = sum(h_x - y_train)\n",
    "    m = sum( np.multiply(h_x - y_train,x_train) )\n",
    "    \n",
    "    return(np.array([c,m]))"
   ]
  },
  {
   "cell_type": "code",
   "execution_count": 136,
   "metadata": {},
   "outputs": [],
   "source": [
    "def compute_param():\n",
    "    param = np.array([0.0,0.0])\n",
    "    a = 0.01/len(x_train)\n",
    "    \n",
    "    for i in range(1000):\n",
    "        param -= (a*compute_diff(param))\n",
    "    \n",
    "    return(param)"
   ]
  },
  {
   "cell_type": "code",
   "execution_count": 137,
   "metadata": {},
   "outputs": [
    {
     "name": "stdout",
     "output_type": "stream",
     "text": [
      "m= 9761.07183294972\n",
      "c= 23772.327849561174\n"
     ]
    }
   ],
   "source": [
    "param = compute_param()\n",
    "\n",
    "c = param[0]\n",
    "m = param[1]  #y = mx + c\n",
    "print(\"m=\", m)\n",
    "print(\"c=\", c)\n",
    "\n",
    "y_pred=compute_yi(param,x_test)"
   ]
  },
  {
   "cell_type": "code",
   "execution_count": 140,
   "metadata": {},
   "outputs": [
    {
     "data": {
      "text/plain": [
       "Text(0, 0.5, 'Salary')"
      ]
     },
     "execution_count": 140,
     "metadata": {},
     "output_type": "execute_result"
    },
    {
     "data": {
      "image/png": "[encoded data removed]",
      "text/plain": [
       "<Figure size 432x288 with 1 Axes>"
      ]
     },
     "metadata": {
      "needs_background": "light"
     },
     "output_type": "display_data"
    }
   ],
   "source": [
    "plt.scatter(x_test,y_test)\n",
    "plt.scatter(x,y)\n",
    "plt.plot(x,(m*x)+c)\n",
    "plt.xlabel(\"YearsOfExperience\")\n",
    "plt.ylabel(\"Salary\")"
   ]
  },
  {
   "cell_type": "code",
   "execution_count": 139,
   "metadata": {},
   "outputs": [
    {
     "name": "stdout",
     "output_type": "stream",
     "text": [
      "r2= 0.9976356217212986\n",
      "rmse= 1714.6461935483937\n",
      "mae= 313.0501327822748\n"
     ]
    }
   ],
   "source": [
    "import math\n",
    "#R2 error\n",
    "\n",
    "residue_ss = sum((y_test-y_pred)**2)\n",
    "y_mean = sum(x)/len(x)\n",
    "tot_ss = sum((y_mean-y_pred)**2)\n",
    "\n",
    "r2 = 1-(residue_ss/tot_ss)\n",
    "print(\"r2=\", r2)\n",
    "\n",
    "#RMSE\n",
    "\n",
    "rmse = math.sqrt((residue_ss/len(x)))\n",
    "print(\"rmse=\", rmse)\n",
    "\n",
    "#mae\n",
    "\n",
    "mae=math.sqrt(residue_ss)/len(x)\n",
    "print(\"mae=\", mae)"
   ]
  },
  {
   "cell_type": "markdown",
   "metadata": {},
   "source": [
    "## Task 1b - Logistic Regression\n",
    "Code your own Logistic Regressor here, and fit it to your training data. You will first have to create a column, 'Salary<60000', which contains '1' if salary is less than 60000 and '0' otherwise. This is your target variable, which you will aim to predict based on years of experience."
   ]
  },
  {
   "cell_type": "code",
   "execution_count": 29,
   "metadata": {},
   "outputs": [],
   "source": [
    "df = pd.read_csv(\"Data/SalaryData.csv\")\n",
    "\n",
    "y = [1 if i<60000 else 0 for i in df.Salary]\n",
    "x = df.YearsExperience\n",
    "\n",
    "x_train,x_test,y_train,y_test=train_test_split(x,y,test_size=0.2)\n",
    "\n",
    "def sigmoid(x):\n",
    "    return (1/(1 + math.exp(-x)))\n",
    "\n",
    "def compute_diff(param):\n",
    "    h_x = compute_yi(param, x_train)\n",
    "   \n",
    "    c = sum(h_x - y_train)\n",
    "    m = sum( np.multiply(h_x - y_train,x_train) )\n",
    "    \n",
    "    return(np.array([c,m]))\n",
    "\n",
    "def compute_param():\n",
    "    param = np.array([0.0,0.0])\n",
    "    a = 0.01/len(x_train)\n",
    "    \n",
    "    for i in range(1000):\n",
    "        param -= (a*compute_diff(param))\n",
    "    \n",
    "    return(param)\n",
    "\n",
    "def decision(x):\n",
    "    return([0 if i < 0.5 else 1 for i in x ])\n",
    "\n",
    "param = compute_param()\n",
    "\n",
    "c = param[0]\n",
    "m = param[1]  #y = mx + c\n",
    "\n",
    "print(\"m=\", m)\n",
    "print(\"c=\", c)\n",
    "\n",
    "y_pred=compute_yi(param,x)\n",
    "\n",
    "print(decision(y_pred))\n",
    "print(y)\n",
    "\n",
    "\n",
    "1/(1+np.exp(-(m*x.values+c)))\n",
    "\n",
    "plt.scatter(x_test,decision(y_test))\n",
    "plt.scatter(x,decision(y))\n",
    "plt.plot(x.values,(1/(1+np.exp(-(m*x.values+c)))))"
   ]
  },
  {
   "cell_type": "markdown",
   "metadata": {
    "colab_type": "text",
    "id": "vaCu6RS52qYf"
   },
   "source": [
    "## Task 2 - Results\n",
    "Analyse the quality of the ML models you built using metrics such as R2, MAE and RMSE for the Linear Regressor, and Accuracy for the Logistic Regressor. Evaluate their performance on the testing set."
   ]
  },
  {
   "cell_type": "code",
   "execution_count": 87,
   "metadata": {},
   "outputs": [
    {
     "name": "stdout",
     "output_type": "stream",
     "text": [
      "80.0\n"
     ]
    }
   ],
   "source": [
    "y_GT = decision(y_pred)\n",
    "true_vals=0\n",
    "for i in range(len(y_pred)):\n",
    "    if(y[i]==y_GT[i]):\n",
    "        true_vals+=1\n",
    "accuracy = (true_vals/len(y))*100\n",
    "\n",
    "print(accuracy)"
   ]
  },
  {
   "cell_type": "code",
   "execution_count": null,
   "metadata": {},
   "outputs": [],
   "source": []
  }
 ],
 "metadata": {
  "colab": {
   "name": "Untitled15.ipynb",
   "provenance": [],
   "version": "0.3.2"
  },
  "kernelspec": {
   "display_name": "Python 3",
   "language": "python",
   "name": "python3"
  },
  "language_info": {
   "codemirror_mode": {
    "name": "ipython",
    "version": 3
   },
   "file_extension": ".py",
   "mimetype": "text/x-python",
   "name": "python",
   "nbconvert_exporter": "python",
   "pygments_lexer": "ipython3",
   "version": "3.7.4"
  }
 },
 "nbformat": 4,
 "nbformat_minor": 1
}
